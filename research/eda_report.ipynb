{
 "cells": [
  {
   "cell_type": "code",
   "source": "# Pairwise feature relationships - focus on most discriminative pairs\n# Based on correlation analysis, let's focus on Petal features which show high correlation and class separation\n\nfig = px.scatter(train_data, \n                x='PetalLengthCm', \n                y='PetalWidthCm', \n                color='Species',\n                color_discrete_sequence=app_color_palette)\n\nfig.update_layout(\n    height=600,\n    paper_bgcolor='rgba(0,0,0,0)',\n    plot_bgcolor='rgba(0,0,0,0)',\n    font=dict(color='#8B5CF6', size=12),\n    title_font=dict(color='#7C3AED', size=16),\n    xaxis=dict(\n        gridcolor='rgba(139,92,246,0.2)',\n        zerolinecolor='rgba(139,92,246,0.3)',\n        tickfont=dict(color='#8B5CF6', size=11),\n        title_font=dict(color='#7C3AED', size=12),\n        title=\"Petal Length (cm)\"\n    ),\n    yaxis=dict(\n        gridcolor='rgba(139,92,246,0.2)',\n        zerolinecolor='rgba(139,92,246,0.3)', \n        tickfont=dict(color='#8B5CF6', size=11),\n        title_font=dict(color='#7C3AED', size=12),\n        title=\"Petal Width (cm)\"\n    ),\n    legend=dict(font=dict(color='#8B5CF6', size=11), title=dict(text=\"Species\", font=dict(color='#7C3AED')))\n)\n\nfig.write_html(\"/Users/yuvalheffetz/ds-agent-projects/session_3e0a615d-9170-492c-b8ab-7121cbd38bd2/research/plots/petal_scatter_plot.html\",\n               include_plotlyjs=True, config={'responsive': True, 'displayModeBar': False})\nfig.show()\n\n# Also create sepal scatter plot for comparison\nfig2 = px.scatter(train_data, \n                 x='SepalLengthCm', \n                 y='SepalWidthCm', \n                 color='Species',\n                 color_discrete_sequence=app_color_palette)\n\nfig2.update_layout(\n    height=600,\n    paper_bgcolor='rgba(0,0,0,0)',\n    plot_bgcolor='rgba(0,0,0,0)',\n    font=dict(color='#8B5CF6', size=12),\n    title_font=dict(color='#7C3AED', size=16),\n    xaxis=dict(\n        gridcolor='rgba(139,92,246,0.2)',\n        zerolinecolor='rgba(139,92,246,0.3)',\n        tickfont=dict(color='#8B5CF6', size=11),\n        title_font=dict(color='#7C3AED', size=12),\n        title=\"Sepal Length (cm)\"\n    ),\n    yaxis=dict(\n        gridcolor='rgba(139,92,246,0.2)',\n        zerolinecolor='rgba(139,92,246,0.3)', \n        tickfont=dict(color='#8B5CF6', size=11),\n        title_font=dict(color='#7C3AED', size=12),\n        title=\"Sepal Width (cm)\"\n    ),\n    legend=dict(font=dict(color='#8B5CF6', size=11), title=dict(text=\"Species\", font=dict(color='#7C3AED')))\n)\n\nfig2.write_html(\"/Users/yuvalheffetz/ds-agent-projects/session_3e0a615d-9170-492c-b8ab-7121cbd38bd2/research/plots/sepal_scatter_plot.html\",\n                include_plotlyjs=True, config={'responsive': True, 'displayModeBar': False})\nfig2.show()",
   "metadata": {},
   "execution_count": null,
   "outputs": []
  },
  {
   "cell_type": "code",
   "source": "# Class separation analysis using box plots\nfig = make_subplots(rows=2, cols=2, \n                    subplot_titles=feature_columns,\n                    vertical_spacing=0.1,\n                    horizontal_spacing=0.1)\n\nspecies_list = train_data['Species'].unique()\ncolors = app_color_palette[:len(species_list)]\n\nfor i, feature in enumerate(feature_columns):\n    row = i // 2 + 1\n    col = i % 2 + 1\n    \n    for j, species in enumerate(species_list):\n        species_data = train_data[train_data['Species'] == species][feature]\n        fig.add_trace(\n            go.Box(y=species_data,\n                   name=species,\n                   marker_color=colors[j],\n                   showlegend=(i == 0)),  # Only show legend for first subplot\n            row=row, col=col\n        )\n\nfig.update_layout(\n    height=600,\n    paper_bgcolor='rgba(0,0,0,0)',\n    plot_bgcolor='rgba(0,0,0,0)',\n    font=dict(color='#8B5CF6', size=12),\n    legend=dict(font=dict(color='#8B5CF6', size=11))\n)\n\n# Update all subplot axes with consistent styling\nfor i in range(1, 5):\n    fig.update_xaxes(\n        gridcolor='rgba(139,92,246,0.2)',\n        zerolinecolor='rgba(139,92,246,0.3)',\n        tickfont=dict(color='#8B5CF6', size=10),\n        title_font=dict(color='#7C3AED', size=11),\n        row=(i-1)//2+1, col=(i-1)%2+1\n    )\n    fig.update_yaxes(\n        gridcolor='rgba(139,92,246,0.2)',\n        zerolinecolor='rgba(139,92,246,0.3)',\n        tickfont=dict(color='#8B5CF6', size=10),\n        title_font=dict(color='#7C3AED', size=11),\n        row=(i-1)//2+1, col=(i-1)%2+1\n    )\n\nfig.write_html(\"/Users/yuvalheffetz/ds-agent-projects/session_3e0a615d-9170-492c-b8ab-7121cbd38bd2/research/plots/class_separation_boxplots.html\",\n               include_plotlyjs=True, config={'responsive': True, 'displayModeBar': False})\nfig.show()\n\n# Statistical analysis of class separation\nprint(\"Class Separation Analysis:\")\nfor feature in feature_columns:\n    print(f\"\\n{feature}:\")\n    for species in species_list:\n        species_data = train_data[train_data['Species'] == species][feature]\n        print(f\"  {species}: Mean={species_data.mean():.2f}, Std={species_data.std():.2f}\")\n        \n    # ANOVA test for significant differences between groups\n    groups = [train_data[train_data['Species'] == species][feature] for species in species_list]\n    f_stat, p_value = stats.f_oneway(*groups)\n    print(f\"  ANOVA: F={f_stat:.2f}, p-value={p_value:.2e} ({'Significant' if p_value < 0.05 else 'Not significant'})\")",
   "metadata": {},
   "execution_count": null,
   "outputs": []
  },
  {
   "cell_type": "code",
   "source": "# Feature correlation analysis\ncorrelation_matrix = train_data[feature_columns].corr()\nprint(\"Feature Correlation Matrix:\")\nprint(correlation_matrix)\n\n# Create correlation heatmap\nfig = px.imshow(correlation_matrix, \n                text_auto=True,\n                aspect=\"auto\",\n                color_continuous_scale=['#636EFA', '#FFFFFF', '#EF553B'])\n\nfig.update_layout(\n    height=600,\n    paper_bgcolor='rgba(0,0,0,0)',\n    plot_bgcolor='rgba(0,0,0,0)',\n    font=dict(color='#8B5CF6', size=12),\n    title_font=dict(color='#7C3AED', size=16),\n    xaxis=dict(\n        tickfont=dict(color='#8B5CF6', size=11),\n        title_font=dict(color='#7C3AED', size=12)\n    ),\n    yaxis=dict(\n        tickfont=dict(color='#8B5CF6', size=11),\n        title_font=dict(color='#7C3AED', size=12)\n    ),\n    coloraxis_colorbar=dict(\n        tickfont=dict(color='#8B5CF6', size=10),\n        title_font=dict(color='#7C3AED', size=11)\n    )\n)\n\nfig.write_html(\"/Users/yuvalheffetz/ds-agent-projects/session_3e0a615d-9170-492c-b8ab-7121cbd38bd2/research/plots/feature_correlations.html\",\n               include_plotlyjs=True, config={'responsive': True, 'displayModeBar': False})\nfig.show()",
   "metadata": {},
   "execution_count": null,
   "outputs": []
  },
  {
   "cell_type": "code",
   "source": "# Feature distribution analysis\nfeature_columns = ['SepalLengthCm', 'SepalWidthCm', 'PetalLengthCm', 'PetalWidthCm']\n\n# Create feature distribution subplots\nfrom plotly.subplots import make_subplots\n\nfig = make_subplots(rows=2, cols=2, \n                    subplot_titles=feature_columns,\n                    vertical_spacing=0.1,\n                    horizontal_spacing=0.1)\n\nfor i, feature in enumerate(feature_columns):\n    row = i // 2 + 1\n    col = i % 2 + 1\n    \n    fig.add_trace(\n        go.Histogram(x=train_data[feature], \n                    name=feature,\n                    marker_color=app_color_palette[i],\n                    nbinsx=15),\n        row=row, col=col\n    )\n\nfig.update_layout(\n    height=600,\n    paper_bgcolor='rgba(0,0,0,0)',\n    plot_bgcolor='rgba(0,0,0,0)',\n    font=dict(color='#8B5CF6', size=12),\n    showlegend=False\n)\n\n# Update all subplot axes with consistent styling\nfor i in range(1, 5):\n    fig.update_xaxes(\n        gridcolor='rgba(139,92,246,0.2)',\n        zerolinecolor='rgba(139,92,246,0.3)',\n        tickfont=dict(color='#8B5CF6', size=10),\n        title_font=dict(color='#7C3AED', size=11),\n        row=(i-1)//2+1, col=(i-1)%2+1\n    )\n    fig.update_yaxes(\n        gridcolor='rgba(139,92,246,0.2)',\n        zerolinecolor='rgba(139,92,246,0.3)',\n        tickfont=dict(color='#8B5CF6', size=10),\n        title_font=dict(color='#7C3AED', size=11),\n        row=(i-1)//2+1, col=(i-1)%2+1\n    )\n\nfig.write_html(\"/Users/yuvalheffetz/ds-agent-projects/session_3e0a615d-9170-492c-b8ab-7121cbd38bd2/research/plots/feature_distributions.html\",\n               include_plotlyjs=True, config={'responsive': True, 'displayModeBar': False})\nfig.show()\n\n# Outlier detection using IQR method\nprint(\"Outlier Analysis using IQR method:\")\nfor feature in feature_columns:\n    Q1 = train_data[feature].quantile(0.25)\n    Q3 = train_data[feature].quantile(0.75)\n    IQR = Q3 - Q1\n    lower_bound = Q1 - 1.5 * IQR\n    upper_bound = Q3 + 1.5 * IQR\n    outliers = train_data[(train_data[feature] < lower_bound) | (train_data[feature] > upper_bound)]\n    print(f\"{feature}: {len(outliers)} outliers ({len(outliers)/len(train_data)*100:.1f}%)\")",
   "metadata": {},
   "execution_count": null,
   "outputs": []
  },
  {
   "cell_type": "code",
   "source": "# Target variable distribution analysis\nprint(\"Target Variable Distribution:\")\ntarget_counts = train_data['Species'].value_counts()\nprint(target_counts)\nprint(f\"\\nClass Balance: {target_counts.std():.2f} (lower is more balanced)\")\n\n# Create target distribution plot\nfig = px.bar(x=target_counts.index, y=target_counts.values, \n             title=\"Species Distribution in Training Set\")\n\n# Apply consistent styling\nfig.update_traces(marker=dict(color=app_color_palette[:len(target_counts)]))\nfig.update_layout(\n    height=600,\n    paper_bgcolor='rgba(0,0,0,0)',\n    plot_bgcolor='rgba(0,0,0,0)',\n    font=dict(color='#8B5CF6', size=12),\n    title_font=dict(color='#7C3AED', size=16),\n    xaxis=dict(\n        gridcolor='rgba(139,92,246,0.2)',\n        zerolinecolor='rgba(139,92,246,0.3)',\n        tickfont=dict(color='#8B5CF6', size=11),\n        title_font=dict(color='#7C3AED', size=12),\n        title=\"Species\"\n    ),\n    yaxis=dict(\n        gridcolor='rgba(139,92,246,0.2)',\n        zerolinecolor='rgba(139,92,246,0.3)', \n        tickfont=dict(color='#8B5CF6', size=11),\n        title_font=dict(color='#7C3AED', size=12),\n        title=\"Count\"\n    ),\n    legend=dict(font=dict(color='#8B5CF6', size=11))\n)\n\nfig.write_html(\"/Users/yuvalheffetz/ds-agent-projects/session_3e0a615d-9170-492c-b8ab-7121cbd38bd2/research/plots/target_distribution.html\", \n               include_plotlyjs=True, config={'responsive': True, 'displayModeBar': False})\nfig.show()",
   "metadata": {},
   "execution_count": null,
   "outputs": []
  },
  {
   "cell_type": "code",
   "source": "# Basic statistics and data types analysis\nprint(\"Data Types:\")\nprint(train_data.dtypes)\nprint(\"\\nMissing Values:\")\nprint(train_data.isnull().sum())\nprint(\"\\nBasic Statistics:\")\ntrain_data.describe()",
   "metadata": {},
   "execution_count": null,
   "outputs": []
  },
  {
   "cell_type": "code",
   "source": "# Load the training dataset\ntrain_data = pd.read_csv('/Users/yuvalheffetz/ds-agent-projects/session_3e0a615d-9170-492c-b8ab-7121cbd38bd2/data/train_set.csv')\n\nprint(\"Dataset Shape:\", train_data.shape)\nprint(\"\\nDataset Info:\")\ntrain_data.info()\nprint(\"\\nFirst 5 rows:\")\ntrain_data.head()",
   "metadata": {},
   "execution_count": null,
   "outputs": []
  },
  {
   "cell_type": "markdown",
   "metadata": {},
   "source": [
    "# Exploratory Data Analysis - Iris Dataset\n",
    "\n",
    "## Overview\n",
    "This notebook contains exploratory data analysis for the Iris classification dataset to inform ML pipeline development."
   ]
  },
  {
   "cell_type": "code",
   "execution_count": null,
   "metadata": {},
   "outputs": [],
   "source": [
    "import pandas as pd\n",
    "import numpy as np\n",
    "import plotly.express as px\n",
    "import plotly.graph_objects as go\n",
    "from plotly.subplots import make_subplots\n",
    "import seaborn as sns\n",
    "import matplotlib.pyplot as plt\n",
    "from scipy import stats\n",
    "import warnings\n",
    "warnings.filterwarnings('ignore')\n",
    "\n",
    "# App color palette for consistent styling\n",
    "app_color_palette = [\n",
    "    'rgba(99, 110, 250, 0.8)',   # Blue\n",
    "    'rgba(239, 85, 59, 0.8)',    # Red/Orange-Red\n",
    "    'rgba(0, 204, 150, 0.8)',    # Green\n",
    "    'rgba(171, 99, 250, 0.8)',   # Purple\n",
    "    'rgba(255, 161, 90, 0.8)',   # Orange\n",
    "    'rgba(25, 211, 243, 0.8)',   # Cyan\n",
    "    'rgba(255, 102, 146, 0.8)',  # Pink\n",
    "    'rgba(182, 232, 128, 0.8)',  # Light Green\n",
    "    'rgba(255, 151, 255, 0.8)',  # Magenta\n",
    "    'rgba(254, 203, 82, 0.8)'    # Yellow\n",
    "]"
   ]
  }
 ],
 "metadata": {
  "kernelspec": {
   "display_name": "Python 3",
   "language": "python",
   "name": "python3"
  },
  "language_info": {
   "codemirror_mode": {
    "name": "ipython",
    "version": 3
   },
   "file_extension": ".py",
   "mimetype": "text/x-python",
   "name": "python",
   "nbconvert_exporter": "python",
   "pygments_lexer": "ipython3",
   "version": "3.8.5"
  }
 },
 "nbformat": 4,
 "nbformat_minor": 4
}